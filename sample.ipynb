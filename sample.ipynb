{
 "cells": [
  {
   "metadata": {},
   "cell_type": "markdown",
   "source": "# Solving 150 important LeetCode problems",
   "id": "481593d448d2d978"
  },
  {
   "metadata": {
    "ExecuteTime": {
     "end_time": "2025-06-30T03:26:34.721259Z",
     "start_time": "2025-06-30T03:26:34.711395Z"
    }
   },
   "cell_type": "code",
   "source": [
    "from datetime import datetime as dt\n",
    "import random"
   ],
   "id": "f92f50578b548a55",
   "outputs": [],
   "execution_count": 16
  },
  {
   "metadata": {},
   "cell_type": "markdown",
   "source": [
    "#### Problem 217:\n",
    "Given an integer array **nums**, return **True** if any value appears **at least twice** in the array, and return **False** if every element is distinct"
   ],
   "id": "8167fb2e61b6d4f5"
  },
  {
   "metadata": {
    "ExecuteTime": {
     "end_time": "2025-06-30T03:35:33.199231Z",
     "start_time": "2025-06-30T03:35:27.208248Z"
    }
   },
   "cell_type": "code",
   "source": [
    "# Solution1: check all possibilities\n",
    "def Solution1(nums):\n",
    "    start = dt.now()\n",
    "    for i in range(len(nums)):\n",
    "        for j in range(i + 1, len(nums)):\n",
    "            if nums[i] == nums[j]:\n",
    "                return True, dt.now() - start\n",
    "    return False, dt.now() - start\n",
    "\n",
    "# Solution2: First sort then check\n",
    "def Solution2(nums):\n",
    "    start = dt.now()\n",
    "    nums.sort()\n",
    "    for i in range(len(nums) - 1):\n",
    "        if nums[i] == nums[i + 1]:\n",
    "            return True, dt.now() - start\n",
    "    return False, dt.now() - start\n",
    "\n",
    "# Solution3: Use HashSet\n",
    "def Solution3(nums):\n",
    "    start = dt.now()\n",
    "    s = set()\n",
    "    for i in nums:\n",
    "        if i in s:\n",
    "            return True, dt.now() - start\n",
    "        else:\n",
    "            s.add(i)\n",
    "    return False, dt.now() - start\n",
    "\n",
    "# Solution4: Use set definition\n",
    "def Solution4(nums):\n",
    "    start = dt.now()\n",
    "    if len(set(nums))-len(nums)==0:\n",
    "        return False, dt.now()-start\n",
    "    else:\n",
    "        return True, dt.now()-start\n",
    "\n",
    "# make a random list\n",
    "nums = [random.random() for i in range(10_000)]\n",
    "# Results\n",
    "result1, time1 = Solution1(nums)\n",
    "print(f'Solution1 --> Result: {result1}, Time: {time1}')\n",
    "result2, time2 = Solution2(nums)\n",
    "print(f'Solution2 --> Result: {result2}, Time: {time2}')\n",
    "result3, time3 = Solution3(nums)\n",
    "print(f'Solution3 --> Result: {result3}, Time: {time3}')\n",
    "result4, time4 = Solution4(nums)\n",
    "print(f'Solution3 --> Result: {result4}, Time: {time4}')"
   ],
   "id": "e5bac9a2f717dd0c",
   "outputs": [
    {
     "name": "stdout",
     "output_type": "stream",
     "text": [
      "Solution1 --> Result: False, Time: 0:00:05.967362\n",
      "Solution2 --> Result: False, Time: 0:00:00.015627\n",
      "Solution3 --> Result: False, Time: 0:00:00\n",
      "Solution3 --> Result: False, Time: 0:00:00\n"
     ]
    }
   ],
   "execution_count": 39
  },
  {
   "metadata": {
    "ExecuteTime": {
     "end_time": "2025-06-30T03:34:42.785409Z",
     "start_time": "2025-06-30T03:34:42.780900Z"
    }
   },
   "cell_type": "code",
   "source": "",
   "id": "aabc80ffcc607472",
   "outputs": [],
   "execution_count": null
  },
  {
   "metadata": {
    "ExecuteTime": {
     "end_time": "2025-06-30T03:13:04.968616Z",
     "start_time": "2025-06-30T03:13:04.962369Z"
    }
   },
   "cell_type": "code",
   "source": "",
   "id": "6beaadcc103347b0",
   "outputs": [],
   "execution_count": null
  },
  {
   "metadata": {},
   "cell_type": "code",
   "outputs": [],
   "execution_count": null,
   "source": "",
   "id": "ef84440e999edda5"
  }
 ],
 "metadata": {
  "kernelspec": {
   "display_name": "Python 3",
   "language": "python",
   "name": "python3"
  },
  "language_info": {
   "codemirror_mode": {
    "name": "ipython",
    "version": 2
   },
   "file_extension": ".py",
   "mimetype": "text/x-python",
   "name": "python",
   "nbconvert_exporter": "python",
   "pygments_lexer": "ipython2",
   "version": "2.7.6"
  }
 },
 "nbformat": 4,
 "nbformat_minor": 5
}
