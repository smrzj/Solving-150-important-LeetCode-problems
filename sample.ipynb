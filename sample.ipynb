{
 "cells": [
  {
   "metadata": {},
   "cell_type": "markdown",
   "source": "# Solving 150 important LeetCode problems",
   "id": "481593d448d2d978"
  },
  {
   "metadata": {
    "ExecuteTime": {
     "end_time": "2025-06-30T03:26:34.721259Z",
     "start_time": "2025-06-30T03:26:34.711395Z"
    }
   },
   "cell_type": "code",
   "source": [
    "from datetime import datetime as dt\n",
    "import random"
   ],
   "id": "f92f50578b548a55",
   "outputs": [],
   "execution_count": 16
  },
  {
   "metadata": {},
   "cell_type": "markdown",
   "source": [
    "#### Problem 217:\n",
    "Given an integer array `nums`, return `True` if any value appears **at least twice** in the array, and return `False` if every element is distinct\n",
    "<br>LeetCode Link: https://leetcode.com/problems/contains-duplicate/"
   ],
   "id": "8167fb2e61b6d4f5"
  },
  {
   "metadata": {
    "ExecuteTime": {
     "end_time": "2025-06-30T04:24:07.831792Z",
     "start_time": "2025-06-30T04:24:06.214457Z"
    }
   },
   "cell_type": "code",
   "source": [
    "# Solution1: check all possibilities\n",
    "def Solution1(nums):\n",
    "    start = dt.now()\n",
    "    for i in range(len(nums)):\n",
    "        for j in range(i + 1, len(nums)):\n",
    "            if nums[i] == nums[j]:\n",
    "                return True, dt.now() - start\n",
    "    return False, dt.now() - start\n",
    "\n",
    "# Solution2: First sort then check\n",
    "def Solution2(nums):\n",
    "    start = dt.now()\n",
    "    nums.sort()\n",
    "    for i in range(len(nums) - 1):\n",
    "        if nums[i] == nums[i + 1]:\n",
    "            return True, dt.now() - start\n",
    "    return False, dt.now() - start\n",
    "\n",
    "# Solution3: Use HashSet\n",
    "def Solution3(nums):\n",
    "    start = dt.now()\n",
    "    s = set()\n",
    "    for i in nums:\n",
    "        if i in s:\n",
    "            return True, dt.now() - start\n",
    "        else:\n",
    "            s.add(i)\n",
    "    return False, dt.now() - start\n",
    "\n",
    "# Solution4: Use set definition\n",
    "def Solution4(nums):\n",
    "    start = dt.now()\n",
    "    return(len(set(nums))!= len(nums)), dt.now()-start\n",
    "\n",
    "\n",
    "# make a random list\n",
    "nums = [random.random() for i in range(10_000)]\n",
    "# Results\n",
    "result1, time1 = Solution1(nums)\n",
    "print(f'Solution1 --> Result: {result1}, Time: {time1}')\n",
    "result2, time2 = Solution2(nums)\n",
    "print(f'Solution2 --> Result: {result2}, Time: {time2}')\n",
    "result3, time3 = Solution3(nums)\n",
    "print(f'Solution3 --> Result: {result3}, Time: {time3}')\n",
    "result4, time4 = Solution4(nums)\n",
    "print(f'Solution3 --> Result: {result4}, Time: {time4}')"
   ],
   "id": "e5bac9a2f717dd0c",
   "outputs": [
    {
     "name": "stdout",
     "output_type": "stream",
     "text": [
      "Solution1 --> Result: False, Time: 0:00:01.604074\n",
      "Solution2 --> Result: False, Time: 0:00:00\n",
      "Solution3 --> Result: False, Time: 0:00:00\n",
      "Solution3 --> Result: False, Time: 0:00:00\n"
     ]
    }
   ],
   "execution_count": 40
  },
  {
   "metadata": {},
   "cell_type": "markdown",
   "source": [
    "#### Problem 242:\n",
    "Given two strings `s` and `t`, return `True` if `t` is an anagram of `s`, and `False` otherwise.\n",
    "<br>LeetCode Link: https://leetcode.com/problems/valid-anagram/"
   ],
   "id": "44eb08b89fd52f6c"
  },
  {
   "metadata": {
    "ExecuteTime": {
     "end_time": "2025-06-30T06:03:53.774872Z",
     "start_time": "2025-06-30T06:03:53.765408Z"
    }
   },
   "cell_type": "code",
   "source": [
    "# Solution1: check all possibilities\n",
    "def Solution1(s, t):\n",
    "    start = dt.now()\n",
    "    \"\"\"\n",
    "    به ازای هر کاراکتری که توی s میبینه بره یه دور تمام کاراکتر های داخل t رو چک کنه؛\n",
    "    اگر کاراکتر یکسان دید از دو طرف حذف کنه و بره سراغ چک کردن کاراکتر بعدی\n",
    "    درغیر این صورت جواب Flase هست\n",
    "    در نهایت اگر همه کاراکتر ها پیدا شد جواب True میشه\n",
    "    \"\"\"\n",
    "    return None,dt.now()-start\n",
    "\n",
    "# Solution2: add & remove 1 in right index in list\n",
    "def Solution2(s, t):\n",
    "    start = dt.now()\n",
    "    if len(s)!=len(t):\n",
    "        return False, dt.now()-start\n",
    "    l = [0 for i in range(57)]\n",
    "    temp = l.copy()\n",
    "    for i in range(len(s)):\n",
    "        l[ord(s[i])-ord('A')]+=1\n",
    "        l[ord(t[i])-ord('A')]-=1\n",
    "    if l == temp:\n",
    "        return True, dt.now()-start\n",
    "    return False, dt.now()-start\n",
    "\n",
    "# Solution3: count characters\n",
    "def Solution3(s, t):\n",
    "    start = dt.now()\n",
    "    if len(s)!=len(t):\n",
    "        return False, dt.now()-start\n",
    "    for char in set(s):\n",
    "        if s.count(char)!=t.count(char):\n",
    "            return False, dt.now()-start\n",
    "    return True, dt.now()-start\n",
    "\n",
    "# Solution4: Use set definition\n",
    "def Solution4(s,t):\n",
    "    start = dt.now()\n",
    "    return len(s)==len(t) and set(s)==set(t), dt.now()-start\n",
    "\n",
    "# Results\n",
    "result1, time1 = Solution1(s='catr', t='ract')\n",
    "print(f'Solution1 --> Result: {result1}, Time: {time1}')\n",
    "result2, time2 = Solution2(s='catr', t='ract')\n",
    "print(f'Solution2 --> Result: {result2}, Time: {time2}')\n",
    "result3, time3 = Solution3(s='catr', t='ract')\n",
    "print(f'Solution3 --> Result: {result3}, Time: {time3}')\n",
    "result4, time4 = Solution4(s='catr', t='ract')\n",
    "print(f'Solution3 --> Result: {result4}, Time: {time4}')"
   ],
   "id": "6beaadcc103347b0",
   "outputs": [
    {
     "name": "stdout",
     "output_type": "stream",
     "text": [
      "Solution1 --> Result: None, Time: 0:00:00\n",
      "Solution2 --> Result: True, Time: 0:00:00\n",
      "Solution3 --> Result: True, Time: 0:00:00\n",
      "Solution3 --> Result: True, Time: 0:00:00\n"
     ]
    }
   ],
   "execution_count": 93
  },
  {
   "metadata": {
    "ExecuteTime": {
     "end_time": "2025-06-30T05:52:02.532498Z",
     "start_time": "2025-06-30T05:52:02.527824Z"
    }
   },
   "cell_type": "code",
   "source": "",
   "id": "ef84440e999edda5",
   "outputs": [],
   "execution_count": null
  },
  {
   "metadata": {
    "ExecuteTime": {
     "end_time": "2025-06-30T06:04:07.629790Z",
     "start_time": "2025-06-30T06:04:07.623933Z"
    }
   },
   "cell_type": "code",
   "source": "",
   "id": "60a91b84d5fcd434",
   "outputs": [],
   "execution_count": null
  },
  {
   "metadata": {},
   "cell_type": "code",
   "outputs": [],
   "execution_count": null,
   "source": "",
   "id": "7c3108820c9d54c4"
  }
 ],
 "metadata": {
  "kernelspec": {
   "display_name": "Python 3",
   "language": "python",
   "name": "python3"
  },
  "language_info": {
   "codemirror_mode": {
    "name": "ipython",
    "version": 2
   },
   "file_extension": ".py",
   "mimetype": "text/x-python",
   "name": "python",
   "nbconvert_exporter": "python",
   "pygments_lexer": "ipython2",
   "version": "2.7.6"
  }
 },
 "nbformat": 4,
 "nbformat_minor": 5
}
